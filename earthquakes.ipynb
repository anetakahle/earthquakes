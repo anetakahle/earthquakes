{
  "cells": [
    {
      "cell_type": "markdown",
      "metadata": {
        "id": "view-in-github",
        "colab_type": "text"
      },
      "source": [
        "<a href=\"https://colab.research.google.com/github/anetakahle/earthquakes/blob/main/earthquakes.ipynb\" target=\"_parent\"><img src=\"https://colab.research.google.com/assets/colab-badge.svg\" alt=\"Open In Colab\"/></a>"
      ]
    },
    {
      "cell_type": "markdown",
      "metadata": {
        "id": "nwv6VaEXGcnr"
      },
      "source": [
        "# 1. Úvod a cíle"
      ]
    },
    {
      "cell_type": "markdown",
      "metadata": {
        "id": "g1jmD3HOGiW0"
      },
      "source": [
        "Tato zpráva prezentuje analýzu datového souboru zemětřesení v období od roku 1990 do roku 2023. Zemětřesení představují významné přírodní nebezpečí a porozumění jejich vzorcům a charakteristikám je klíčové pro hodnocení a zmírňování rizik. Tato analýza si klade za cíl:\n",
        "\n",
        "*   Prozkoumat distribuci zemětřesení v čase a prostoru.\n",
        "*   Identifikovat regiony s nejvyšší frekvencí a magnitudou zemětřesení.\n",
        "*   Prozkoumat vztah mezi různými charakteristikami a magnitudou zemětřesení.\n",
        "*   Vytvořit jednoduchý prediktivní model pro výskyt zemětřesení."
      ]
    },
    {
      "cell_type": "markdown",
      "metadata": {
        "id": "dmVLJBUvLD7k"
      },
      "source": [
        "# 2. Získávání a příprava dat"
      ]
    },
    {
      "cell_type": "markdown",
      "metadata": {
        "id": "xsG1_SZeLpFZ"
      },
      "source": [
        "## 2.1. Import knihoven\n"
      ]
    },
    {
      "cell_type": "code",
      "execution_count": null,
      "metadata": {
        "colab": {
          "base_uri": "https://localhost:8080/"
        },
        "id": "Jezmj_02S3GX",
        "outputId": "94a6082c-c775-4fc3-fff1-dd51b3ce9783"
      },
      "outputs": [
        {
          "output_type": "stream",
          "name": "stdout",
          "text": [
            "Collecting umap-learn\n",
            "  Downloading umap_learn-0.5.7-py3-none-any.whl.metadata (21 kB)\n",
            "Requirement already satisfied: pandas in /usr/local/lib/python3.11/dist-packages (2.2.2)\n",
            "Requirement already satisfied: matplotlib in /usr/local/lib/python3.11/dist-packages (3.10.0)\n",
            "Collecting datashader\n",
            "  Downloading datashader-0.17.0-py3-none-any.whl.metadata (7.6 kB)\n",
            "Collecting bokeh\n",
            "  Downloading bokeh-3.6.3-py3-none-any.whl.metadata (12 kB)\n",
            "Collecting holoviews\n",
            "  Downloading holoviews-1.20.1-py3-none-any.whl.metadata (9.9 kB)\n",
            "Requirement already satisfied: scikit-image in /usr/local/lib/python3.11/dist-packages (0.25.2)\n",
            "Collecting colorcet\n",
            "  Downloading colorcet-3.1.0-py3-none-any.whl.metadata (6.3 kB)\n",
            "Requirement already satisfied: numpy>=1.17 in /usr/local/lib/python3.11/dist-packages (from umap-learn) (1.26.4)\n",
            "Requirement already satisfied: scipy>=1.3.1 in /usr/local/lib/python3.11/dist-packages (from umap-learn) (1.13.1)\n",
            "Requirement already satisfied: scikit-learn>=0.22 in /usr/local/lib/python3.11/dist-packages (from umap-learn) (1.6.1)\n",
            "Requirement already satisfied: numba>=0.51.2 in /usr/local/lib/python3.11/dist-packages (from umap-learn) (0.61.0)\n",
            "Collecting pynndescent>=0.5 (from umap-learn)\n",
            "  Downloading pynndescent-0.5.13-py3-none-any.whl.metadata (6.8 kB)\n",
            "Requirement already satisfied: tqdm in /usr/local/lib/python3.11/dist-packages (from umap-learn) (4.67.1)\n",
            "Requirement already satisfied: python-dateutil>=2.8.2 in /usr/local/lib/python3.11/dist-packages (from pandas) (2.9.0.post0)\n",
            "Requirement already satisfied: pytz>=2020.1 in /usr/local/lib/python3.11/dist-packages (from pandas) (2025.1)\n",
            "Requirement already satisfied: tzdata>=2022.7 in /usr/local/lib/python3.11/dist-packages (from pandas) (2025.1)\n",
            "Requirement already satisfied: contourpy>=1.0.1 in /usr/local/lib/python3.11/dist-packages (from matplotlib) (1.3.1)\n",
            "Requirement already satisfied: cycler>=0.10 in /usr/local/lib/python3.11/dist-packages (from matplotlib) (0.12.1)\n",
            "Requirement already satisfied: fonttools>=4.22.0 in /usr/local/lib/python3.11/dist-packages (from matplotlib) (4.56.0)\n",
            "Requirement already satisfied: kiwisolver>=1.3.1 in /usr/local/lib/python3.11/dist-packages (from matplotlib) (1.4.8)\n",
            "Requirement already satisfied: packaging>=20.0 in /usr/local/lib/python3.11/dist-packages (from matplotlib) (24.2)\n",
            "Requirement already satisfied: pillow>=8 in /usr/local/lib/python3.11/dist-packages (from matplotlib) (11.1.0)\n",
            "Requirement already satisfied: pyparsing>=2.3.1 in /usr/local/lib/python3.11/dist-packages (from matplotlib) (3.2.1)\n",
            "Collecting multipledispatch (from datashader)\n",
            "  Downloading multipledispatch-1.0.0-py3-none-any.whl.metadata (3.8 kB)\n",
            "Collecting param (from datashader)\n",
            "  Downloading param-2.2.0-py3-none-any.whl.metadata (6.6 kB)\n",
            "Collecting pyct (from datashader)\n",
            "  Downloading pyct-0.5.0-py2.py3-none-any.whl.metadata (7.4 kB)\n",
            "Requirement already satisfied: requests in /usr/local/lib/python3.11/dist-packages (from datashader) (2.32.3)\n",
            "Requirement already satisfied: toolz in /usr/local/lib/python3.11/dist-packages (from datashader) (1.0.0)\n",
            "Collecting xarray (from datashader)\n",
            "  Downloading xarray-2025.1.2-py3-none-any.whl.metadata (11 kB)\n",
            "Requirement already satisfied: Jinja2>=2.9 in /usr/local/lib/python3.11/dist-packages (from bokeh) (3.1.5)\n",
            "Requirement already satisfied: PyYAML>=3.10 in /usr/local/lib/python3.11/dist-packages (from bokeh) (6.0.2)\n",
            "Requirement already satisfied: tornado>=6.2 in /usr/local/lib/python3.11/dist-packages (from bokeh) (6.4.2)\n",
            "Collecting xyzservices>=2021.09.1 (from bokeh)\n",
            "  Downloading xyzservices-2025.1.0-py3-none-any.whl.metadata (4.3 kB)\n",
            "Collecting panel>=1.0 (from holoviews)\n",
            "  Downloading panel-1.6.1-py3-none-any.whl.metadata (15 kB)\n",
            "Collecting pyviz-comms>=2.1 (from holoviews)\n",
            "  Downloading pyviz_comms-3.0.4-py3-none-any.whl.metadata (7.7 kB)\n",
            "Requirement already satisfied: networkx>=3.0 in /usr/local/lib/python3.11/dist-packages (from scikit-image) (3.4.2)\n",
            "Requirement already satisfied: imageio!=2.35.0,>=2.33 in /usr/local/lib/python3.11/dist-packages (from scikit-image) (2.37.0)\n",
            "Requirement already satisfied: tifffile>=2022.8.12 in /usr/local/lib/python3.11/dist-packages (from scikit-image) (2025.2.18)\n",
            "Requirement already satisfied: lazy-loader>=0.4 in /usr/local/lib/python3.11/dist-packages (from scikit-image) (0.4)\n",
            "Requirement already satisfied: MarkupSafe>=2.0 in /usr/local/lib/python3.11/dist-packages (from Jinja2>=2.9->bokeh) (3.0.2)\n",
            "Requirement already satisfied: llvmlite<0.45,>=0.44.0dev0 in /usr/local/lib/python3.11/dist-packages (from numba>=0.51.2->umap-learn) (0.44.0)\n",
            "Requirement already satisfied: bleach in /usr/local/lib/python3.11/dist-packages (from panel>=1.0->holoviews) (6.2.0)\n",
            "Collecting linkify-it-py (from panel>=1.0->holoviews)\n",
            "  Downloading linkify_it_py-2.0.3-py3-none-any.whl.metadata (8.5 kB)\n",
            "Requirement already satisfied: markdown in /usr/local/lib/python3.11/dist-packages (from panel>=1.0->holoviews) (3.7)\n",
            "Requirement already satisfied: markdown-it-py in /usr/local/lib/python3.11/dist-packages (from panel>=1.0->holoviews) (3.0.0)\n",
            "Collecting mdit-py-plugins (from panel>=1.0->holoviews)\n",
            "  Downloading mdit_py_plugins-0.4.2-py3-none-any.whl.metadata (2.8 kB)\n",
            "Requirement already satisfied: typing-extensions in /usr/local/lib/python3.11/dist-packages (from panel>=1.0->holoviews) (4.12.2)\n",
            "Requirement already satisfied: joblib>=0.11 in /usr/local/lib/python3.11/dist-packages (from pynndescent>=0.5->umap-learn) (1.4.2)\n",
            "Requirement already satisfied: six>=1.5 in /usr/local/lib/python3.11/dist-packages (from python-dateutil>=2.8.2->pandas) (1.17.0)\n",
            "Requirement already satisfied: threadpoolctl>=3.1.0 in /usr/local/lib/python3.11/dist-packages (from scikit-learn>=0.22->umap-learn) (3.5.0)\n",
            "Requirement already satisfied: charset-normalizer<4,>=2 in /usr/local/lib/python3.11/dist-packages (from requests->datashader) (3.4.1)\n",
            "Requirement already satisfied: idna<4,>=2.5 in /usr/local/lib/python3.11/dist-packages (from requests->datashader) (3.10)\n",
            "Requirement already satisfied: urllib3<3,>=1.21.1 in /usr/local/lib/python3.11/dist-packages (from requests->datashader) (2.3.0)\n",
            "Requirement already satisfied: certifi>=2017.4.17 in /usr/local/lib/python3.11/dist-packages (from requests->datashader) (2025.1.31)\n",
            "Requirement already satisfied: webencodings in /usr/local/lib/python3.11/dist-packages (from bleach->panel>=1.0->holoviews) (0.5.1)\n",
            "Collecting uc-micro-py (from linkify-it-py->panel>=1.0->holoviews)\n",
            "  Downloading uc_micro_py-1.0.3-py3-none-any.whl.metadata (2.0 kB)\n",
            "Requirement already satisfied: mdurl~=0.1 in /usr/local/lib/python3.11/dist-packages (from markdown-it-py->panel>=1.0->holoviews) (0.1.2)\n",
            "Downloading umap_learn-0.5.7-py3-none-any.whl (88 kB)\n",
            "\u001b[2K   \u001b[90m━━━━━━━━━━━━━━━━━━━━━━━━━━━━━━━━━━━━━━━━\u001b[0m \u001b[32m88.8/88.8 kB\u001b[0m \u001b[31m3.4 MB/s\u001b[0m eta \u001b[36m0:00:00\u001b[0m\n",
            "\u001b[?25hDownloading datashader-0.17.0-py3-none-any.whl (18.3 MB)\n",
            "\u001b[2K   \u001b[90m━━━━━━━━━━━━━━━━━━━━━━━━━━━━━━━━━━━━━━━━\u001b[0m \u001b[32m18.3/18.3 MB\u001b[0m \u001b[31m99.4 MB/s\u001b[0m eta \u001b[36m0:00:00\u001b[0m\n",
            "\u001b[?25hDownloading bokeh-3.6.3-py3-none-any.whl (6.9 MB)\n",
            "\u001b[2K   \u001b[90m━━━━━━━━━━━━━━━━━━━━━━━━━━━━━━━━━━━━━━━━\u001b[0m \u001b[32m6.9/6.9 MB\u001b[0m \u001b[31m110.2 MB/s\u001b[0m eta \u001b[36m0:00:00\u001b[0m\n",
            "\u001b[?25hDownloading holoviews-1.20.1-py3-none-any.whl (5.0 MB)\n",
            "\u001b[2K   \u001b[90m━━━━━━━━━━━━━━━━━━━━━━━━━━━━━━━━━━━━━━━━\u001b[0m \u001b[32m5.0/5.0 MB\u001b[0m \u001b[31m93.2 MB/s\u001b[0m eta \u001b[36m0:00:00\u001b[0m\n",
            "\u001b[?25hDownloading colorcet-3.1.0-py3-none-any.whl (260 kB)\n",
            "\u001b[2K   \u001b[90m━━━━━━━━━━━━━━━━━━━━━━━━━━━━━━━━━━━━━━━━\u001b[0m \u001b[32m260.3/260.3 kB\u001b[0m \u001b[31m16.1 MB/s\u001b[0m eta \u001b[36m0:00:00\u001b[0m\n",
            "\u001b[?25hDownloading panel-1.6.1-py3-none-any.whl (28.0 MB)\n",
            "\u001b[2K   \u001b[90m━━━━━━━━━━━━━━━━━━━━━━━━━━━━━━━━━━━━━━━━\u001b[0m \u001b[32m28.0/28.0 MB\u001b[0m \u001b[31m57.7 MB/s\u001b[0m eta \u001b[36m0:00:00\u001b[0m\n",
            "\u001b[?25hDownloading param-2.2.0-py3-none-any.whl (119 kB)\n",
            "\u001b[2K   \u001b[90m━━━━━━━━━━━━━━━━━━━━━━━━━━━━━━━━━━━━━━━━\u001b[0m \u001b[32m119.0/119.0 kB\u001b[0m \u001b[31m7.8 MB/s\u001b[0m eta \u001b[36m0:00:00\u001b[0m\n",
            "\u001b[?25hDownloading pynndescent-0.5.13-py3-none-any.whl (56 kB)\n",
            "\u001b[2K   \u001b[90m━━━━━━━━━━━━━━━━━━━━━━━━━━━━━━━━━━━━━━━━\u001b[0m \u001b[32m56.9/56.9 kB\u001b[0m \u001b[31m4.2 MB/s\u001b[0m eta \u001b[36m0:00:00\u001b[0m\n",
            "\u001b[?25hDownloading pyviz_comms-3.0.4-py3-none-any.whl (83 kB)\n",
            "\u001b[2K   \u001b[90m━━━━━━━━━━━━━━━━━━━━━━━━━━━━━━━━━━━━━━━━\u001b[0m \u001b[32m83.8/83.8 kB\u001b[0m \u001b[31m5.9 MB/s\u001b[0m eta \u001b[36m0:00:00\u001b[0m\n",
            "\u001b[?25hDownloading xyzservices-2025.1.0-py3-none-any.whl (88 kB)\n",
            "\u001b[2K   \u001b[90m━━━━━━━━━━━━━━━━━━━━━━━━━━━━━━━━━━━━━━━━\u001b[0m \u001b[32m88.4/88.4 kB\u001b[0m \u001b[31m6.2 MB/s\u001b[0m eta \u001b[36m0:00:00\u001b[0m\n",
            "\u001b[?25hDownloading multipledispatch-1.0.0-py3-none-any.whl (12 kB)\n",
            "Downloading pyct-0.5.0-py2.py3-none-any.whl (15 kB)\n",
            "Downloading xarray-2025.1.2-py3-none-any.whl (1.2 MB)\n",
            "\u001b[2K   \u001b[90m━━━━━━━━━━━━━━━━━━━━━━━━━━━━━━━━━━━━━━━━\u001b[0m \u001b[32m1.2/1.2 MB\u001b[0m \u001b[31m50.3 MB/s\u001b[0m eta \u001b[36m0:00:00\u001b[0m\n",
            "\u001b[?25hDownloading linkify_it_py-2.0.3-py3-none-any.whl (19 kB)\n",
            "Downloading mdit_py_plugins-0.4.2-py3-none-any.whl (55 kB)\n",
            "\u001b[2K   \u001b[90m━━━━━━━━━━━━━━━━━━━━━━━━━━━━━━━━━━━━━━━━\u001b[0m \u001b[32m55.3/55.3 kB\u001b[0m \u001b[31m3.4 MB/s\u001b[0m eta \u001b[36m0:00:00\u001b[0m\n",
            "\u001b[?25hDownloading uc_micro_py-1.0.3-py3-none-any.whl (6.2 kB)\n",
            "Installing collected packages: multipledispatch, xyzservices, uc-micro-py, param, colorcet, pyviz-comms, pyct, mdit-py-plugins, linkify-it-py, xarray, pynndescent, bokeh, umap-learn, panel, datashader, holoviews\n",
            "Successfully installed bokeh-3.6.3 colorcet-3.1.0 datashader-0.17.0 holoviews-1.20.1 linkify-it-py-2.0.3 mdit-py-plugins-0.4.2 multipledispatch-1.0.0 panel-1.6.1 param-2.2.0 pyct-0.5.0 pynndescent-0.5.13 pyviz-comms-3.0.4 uc-micro-py-1.0.3 umap-learn-0.5.7 xarray-2025.1.2 xyzservices-2025.1.0\n",
            "Collecting densmap-learn\n",
            "  Downloading densmap_learn-0.2.2-py3-none-any.whl.metadata (9.4 kB)\n",
            "Requirement already satisfied: numpy>=1.13 in /usr/local/lib/python3.11/dist-packages (from densmap-learn) (1.26.4)\n",
            "Requirement already satisfied: scikit-learn>=0.16 in /usr/local/lib/python3.11/dist-packages (from densmap-learn) (1.6.1)\n",
            "Requirement already satisfied: scipy>=0.19 in /usr/local/lib/python3.11/dist-packages (from densmap-learn) (1.13.1)\n",
            "Collecting numba==0.48.0 (from densmap-learn)\n",
            "  Downloading numba-0.48.0.tar.gz (2.0 MB)\n",
            "\u001b[2K     \u001b[90m━━━━━━━━━━━━━━━━━━━━━━━━━━━━━━━━━━━━━━━━\u001b[0m \u001b[32m2.0/2.0 MB\u001b[0m \u001b[31m20.4 MB/s\u001b[0m eta \u001b[36m0:00:00\u001b[0m\n",
            "\u001b[?25h  Preparing metadata (setup.py) ... \u001b[?25l\u001b[?25hdone\n",
            "Collecting llvmlite<0.32.0,>=0.31.0dev0 (from numba==0.48.0->densmap-learn)\n",
            "  Downloading llvmlite-0.31.0.tar.gz (110 kB)\n",
            "\u001b[2K     \u001b[90m━━━━━━━━━━━━━━━━━━━━━━━━━━━━━━━━━━━━━━━━\u001b[0m \u001b[32m110.8/110.8 kB\u001b[0m \u001b[31m7.3 MB/s\u001b[0m eta \u001b[36m0:00:00\u001b[0m\n",
            "\u001b[?25h  Preparing metadata (setup.py) ... \u001b[?25l\u001b[?25hdone\n",
            "Requirement already satisfied: setuptools in /usr/local/lib/python3.11/dist-packages (from numba==0.48.0->densmap-learn) (75.1.0)\n",
            "Requirement already satisfied: joblib>=1.2.0 in /usr/local/lib/python3.11/dist-packages (from scikit-learn>=0.16->densmap-learn) (1.4.2)\n",
            "Requirement already satisfied: threadpoolctl>=3.1.0 in /usr/local/lib/python3.11/dist-packages (from scikit-learn>=0.16->densmap-learn) (3.5.0)\n",
            "Downloading densmap_learn-0.2.2-py3-none-any.whl (680 kB)\n",
            "\u001b[2K   \u001b[90m━━━━━━━━━━━━━━━━━━━━━━━━━━━━━━━━━━━━━━━━\u001b[0m \u001b[32m680.4/680.4 kB\u001b[0m \u001b[31m39.1 MB/s\u001b[0m eta \u001b[36m0:00:00\u001b[0m\n",
            "\u001b[?25hBuilding wheels for collected packages: numba, llvmlite\n",
            "  \u001b[1;31merror\u001b[0m: \u001b[1msubprocess-exited-with-error\u001b[0m\n",
            "  \n",
            "  \u001b[31m×\u001b[0m \u001b[32mpython setup.py bdist_wheel\u001b[0m did not run successfully.\n",
            "  \u001b[31m│\u001b[0m exit code: \u001b[1;36m1\u001b[0m\n",
            "  \u001b[31m╰─>\u001b[0m See above for output.\n",
            "  \n",
            "  \u001b[1;35mnote\u001b[0m: This error originates from a subprocess, and is likely not a problem with pip.\n",
            "  Building wheel for numba (setup.py) ... \u001b[?25lerror\n",
            "\u001b[31m  ERROR: Failed building wheel for numba\u001b[0m\u001b[31m\n",
            "\u001b[0m\u001b[?25h  Running setup.py clean for numba\n",
            "  \u001b[1;31merror\u001b[0m: \u001b[1msubprocess-exited-with-error\u001b[0m\n",
            "  \n",
            "  \u001b[31m×\u001b[0m \u001b[32mpython setup.py bdist_wheel\u001b[0m did not run successfully.\n",
            "  \u001b[31m│\u001b[0m exit code: \u001b[1;36m1\u001b[0m\n",
            "  \u001b[31m╰─>\u001b[0m See above for output.\n",
            "  \n",
            "  \u001b[1;35mnote\u001b[0m: This error originates from a subprocess, and is likely not a problem with pip.\n",
            "  Building wheel for llvmlite (setup.py) ... \u001b[?25lerror\n",
            "\u001b[31m  ERROR: Failed building wheel for llvmlite\u001b[0m\u001b[31m\n",
            "\u001b[0m\u001b[?25h  Running setup.py clean for llvmlite\n",
            "Failed to build numba llvmlite\n",
            "\u001b[31mERROR: ERROR: Failed to build installable wheels for some pyproject.toml based projects (numba, llvmlite)\u001b[0m\u001b[31m\n",
            "\u001b[0mCollecting streamlit\n",
            "  Downloading streamlit-1.42.2-py2.py3-none-any.whl.metadata (8.9 kB)\n",
            "Requirement already satisfied: altair<6,>=4.0 in /usr/local/lib/python3.11/dist-packages (from streamlit) (5.5.0)\n",
            "Requirement already satisfied: blinker<2,>=1.0.0 in /usr/lib/python3/dist-packages (from streamlit) (1.4)\n",
            "Requirement already satisfied: cachetools<6,>=4.0 in /usr/local/lib/python3.11/dist-packages (from streamlit) (5.5.1)\n",
            "Requirement already satisfied: click<9,>=7.0 in /usr/local/lib/python3.11/dist-packages (from streamlit) (8.1.8)\n",
            "Requirement already satisfied: numpy<3,>=1.23 in /usr/local/lib/python3.11/dist-packages (from streamlit) (1.26.4)\n",
            "Requirement already satisfied: packaging<25,>=20 in /usr/local/lib/python3.11/dist-packages (from streamlit) (24.2)\n",
            "Requirement already satisfied: pandas<3,>=1.4.0 in /usr/local/lib/python3.11/dist-packages (from streamlit) (2.2.2)\n",
            "Requirement already satisfied: pillow<12,>=7.1.0 in /usr/local/lib/python3.11/dist-packages (from streamlit) (11.1.0)\n",
            "Requirement already satisfied: protobuf<6,>=3.20 in /usr/local/lib/python3.11/dist-packages (from streamlit) (5.29.3)\n",
            "Requirement already satisfied: pyarrow>=7.0 in /usr/local/lib/python3.11/dist-packages (from streamlit) (19.0.1)\n",
            "Requirement already satisfied: requests<3,>=2.27 in /usr/local/lib/python3.11/dist-packages (from streamlit) (2.32.3)\n",
            "Requirement already satisfied: rich<14,>=10.14.0 in /usr/local/lib/python3.11/dist-packages (from streamlit) (13.9.4)\n",
            "Requirement already satisfied: tenacity<10,>=8.1.0 in /usr/local/lib/python3.11/dist-packages (from streamlit) (9.0.0)\n",
            "Requirement already satisfied: toml<2,>=0.10.1 in /usr/local/lib/python3.11/dist-packages (from streamlit) (0.10.2)\n",
            "Requirement already satisfied: typing-extensions<5,>=4.4.0 in /usr/local/lib/python3.11/dist-packages (from streamlit) (4.12.2)\n",
            "Collecting watchdog<7,>=2.1.5 (from streamlit)\n",
            "  Downloading watchdog-6.0.0-py3-none-manylinux2014_x86_64.whl.metadata (44 kB)\n",
            "\u001b[2K     \u001b[90m━━━━━━━━━━━━━━━━━━━━━━━━━━━━━━━━━━━━━━━━\u001b[0m \u001b[32m44.3/44.3 kB\u001b[0m \u001b[31m1.5 MB/s\u001b[0m eta \u001b[36m0:00:00\u001b[0m\n",
            "\u001b[?25hCollecting gitpython!=3.1.19,<4,>=3.0.7 (from streamlit)\n",
            "  Downloading GitPython-3.1.44-py3-none-any.whl.metadata (13 kB)\n",
            "Collecting pydeck<1,>=0.8.0b4 (from streamlit)\n",
            "  Downloading pydeck-0.9.1-py2.py3-none-any.whl.metadata (4.1 kB)\n",
            "Requirement already satisfied: tornado<7,>=6.0.3 in /usr/local/lib/python3.11/dist-packages (from streamlit) (6.4.2)\n",
            "Requirement already satisfied: jinja2 in /usr/local/lib/python3.11/dist-packages (from altair<6,>=4.0->streamlit) (3.1.5)\n",
            "Requirement already satisfied: jsonschema>=3.0 in /usr/local/lib/python3.11/dist-packages (from altair<6,>=4.0->streamlit) (4.23.0)\n",
            "Requirement already satisfied: narwhals>=1.14.2 in /usr/local/lib/python3.11/dist-packages (from altair<6,>=4.0->streamlit) (1.27.1)\n",
            "Collecting gitdb<5,>=4.0.1 (from gitpython!=3.1.19,<4,>=3.0.7->streamlit)\n",
            "  Downloading gitdb-4.0.12-py3-none-any.whl.metadata (1.2 kB)\n",
            "Requirement already satisfied: python-dateutil>=2.8.2 in /usr/local/lib/python3.11/dist-packages (from pandas<3,>=1.4.0->streamlit) (2.9.0.post0)\n",
            "Requirement already satisfied: pytz>=2020.1 in /usr/local/lib/python3.11/dist-packages (from pandas<3,>=1.4.0->streamlit) (2025.1)\n",
            "Requirement already satisfied: tzdata>=2022.7 in /usr/local/lib/python3.11/dist-packages (from pandas<3,>=1.4.0->streamlit) (2025.1)\n",
            "Requirement already satisfied: charset-normalizer<4,>=2 in /usr/local/lib/python3.11/dist-packages (from requests<3,>=2.27->streamlit) (3.4.1)\n",
            "Requirement already satisfied: idna<4,>=2.5 in /usr/local/lib/python3.11/dist-packages (from requests<3,>=2.27->streamlit) (3.10)\n",
            "Requirement already satisfied: urllib3<3,>=1.21.1 in /usr/local/lib/python3.11/dist-packages (from requests<3,>=2.27->streamlit) (2.3.0)\n",
            "Requirement already satisfied: certifi>=2017.4.17 in /usr/local/lib/python3.11/dist-packages (from requests<3,>=2.27->streamlit) (2025.1.31)\n",
            "Requirement already satisfied: markdown-it-py>=2.2.0 in /usr/local/lib/python3.11/dist-packages (from rich<14,>=10.14.0->streamlit) (3.0.0)\n",
            "Requirement already satisfied: pygments<3.0.0,>=2.13.0 in /usr/local/lib/python3.11/dist-packages (from rich<14,>=10.14.0->streamlit) (2.19.1)\n",
            "Collecting smmap<6,>=3.0.1 (from gitdb<5,>=4.0.1->gitpython!=3.1.19,<4,>=3.0.7->streamlit)\n",
            "  Downloading smmap-5.0.2-py3-none-any.whl.metadata (4.3 kB)\n",
            "Requirement already satisfied: MarkupSafe>=2.0 in /usr/local/lib/python3.11/dist-packages (from jinja2->altair<6,>=4.0->streamlit) (3.0.2)\n",
            "Requirement already satisfied: attrs>=22.2.0 in /usr/local/lib/python3.11/dist-packages (from jsonschema>=3.0->altair<6,>=4.0->streamlit) (25.1.0)\n",
            "Requirement already satisfied: jsonschema-specifications>=2023.03.6 in /usr/local/lib/python3.11/dist-packages (from jsonschema>=3.0->altair<6,>=4.0->streamlit) (2024.10.1)\n",
            "Requirement already satisfied: referencing>=0.28.4 in /usr/local/lib/python3.11/dist-packages (from jsonschema>=3.0->altair<6,>=4.0->streamlit) (0.36.2)\n",
            "Requirement already satisfied: rpds-py>=0.7.1 in /usr/local/lib/python3.11/dist-packages (from jsonschema>=3.0->altair<6,>=4.0->streamlit) (0.22.3)\n",
            "Requirement already satisfied: mdurl~=0.1 in /usr/local/lib/python3.11/dist-packages (from markdown-it-py>=2.2.0->rich<14,>=10.14.0->streamlit) (0.1.2)\n",
            "Requirement already satisfied: six>=1.5 in /usr/local/lib/python3.11/dist-packages (from python-dateutil>=2.8.2->pandas<3,>=1.4.0->streamlit) (1.17.0)\n",
            "Downloading streamlit-1.42.2-py2.py3-none-any.whl (9.6 MB)\n",
            "\u001b[2K   \u001b[90m━━━━━━━━━━━━━━━━━━━━━━━━━━━━━━━━━━━━━━━━\u001b[0m \u001b[32m9.6/9.6 MB\u001b[0m \u001b[31m74.4 MB/s\u001b[0m eta \u001b[36m0:00:00\u001b[0m\n",
            "\u001b[?25hDownloading GitPython-3.1.44-py3-none-any.whl (207 kB)\n",
            "\u001b[2K   \u001b[90m━━━━━━━━━━━━━━━━━━━━━━━━━━━━━━━━━━━━━━━━\u001b[0m \u001b[32m207.6/207.6 kB\u001b[0m \u001b[31m12.1 MB/s\u001b[0m eta \u001b[36m0:00:00\u001b[0m\n",
            "\u001b[?25hDownloading pydeck-0.9.1-py2.py3-none-any.whl (6.9 MB)\n",
            "\u001b[2K   \u001b[90m━━━━━━━━━━━━━━━━━━━━━━━━━━━━━━━━━━━━━━━━\u001b[0m \u001b[32m6.9/6.9 MB\u001b[0m \u001b[31m111.4 MB/s\u001b[0m eta \u001b[36m0:00:00\u001b[0m\n",
            "\u001b[?25hDownloading watchdog-6.0.0-py3-none-manylinux2014_x86_64.whl (79 kB)\n",
            "\u001b[2K   \u001b[90m━━━━━━━━━━━━━━━━━━━━━━━━━━━━━━━━━━━━━━━━\u001b[0m \u001b[32m79.1/79.1 kB\u001b[0m \u001b[31m4.7 MB/s\u001b[0m eta \u001b[36m0:00:00\u001b[0m\n",
            "\u001b[?25hDownloading gitdb-4.0.12-py3-none-any.whl (62 kB)\n",
            "\u001b[2K   \u001b[90m━━━━━━━━━━━━━━━━━━━━━━━━━━━━━━━━━━━━━━━━\u001b[0m \u001b[32m62.8/62.8 kB\u001b[0m \u001b[31m4.1 MB/s\u001b[0m eta \u001b[36m0:00:00\u001b[0m\n",
            "\u001b[?25hDownloading smmap-5.0.2-py3-none-any.whl (24 kB)\n",
            "Installing collected packages: watchdog, smmap, pydeck, gitdb, gitpython, streamlit\n",
            "Successfully installed gitdb-4.0.12 gitpython-3.1.44 pydeck-0.9.1 smmap-5.0.2 streamlit-1.42.2 watchdog-6.0.0\n",
            "Collecting ydata_profiling\n",
            "  Downloading ydata_profiling-4.12.2-py2.py3-none-any.whl.metadata (20 kB)\n",
            "Requirement already satisfied: scipy<1.16,>=1.4.1 in /usr/local/lib/python3.11/dist-packages (from ydata_profiling) (1.13.1)\n",
            "Requirement already satisfied: pandas!=1.4.0,<3,>1.1 in /usr/local/lib/python3.11/dist-packages (from ydata_profiling) (2.2.2)\n",
            "Requirement already satisfied: matplotlib>=3.5 in /usr/local/lib/python3.11/dist-packages (from ydata_profiling) (3.10.0)\n",
            "Requirement already satisfied: pydantic>=2 in /usr/local/lib/python3.11/dist-packages (from ydata_profiling) (2.10.6)\n",
            "Requirement already satisfied: PyYAML<6.1,>=5.0.0 in /usr/local/lib/python3.11/dist-packages (from ydata_profiling) (6.0.2)\n",
            "Requirement already satisfied: jinja2<3.2,>=2.11.1 in /usr/local/lib/python3.11/dist-packages (from ydata_profiling) (3.1.5)\n",
            "Collecting visions<0.8.0,>=0.7.5 (from visions[type_image_path]<0.8.0,>=0.7.5->ydata_profiling)\n",
            "  Downloading visions-0.7.6-py3-none-any.whl.metadata (11 kB)\n",
            "Requirement already satisfied: numpy<2.2,>=1.16.0 in /usr/local/lib/python3.11/dist-packages (from ydata_profiling) (1.26.4)\n",
            "Collecting htmlmin==0.1.12 (from ydata_profiling)\n",
            "  Downloading htmlmin-0.1.12.tar.gz (19 kB)\n",
            "  Preparing metadata (setup.py) ... \u001b[?25l\u001b[?25hdone\n",
            "Collecting phik<0.13,>=0.11.1 (from ydata_profiling)\n",
            "  Downloading phik-0.12.4-cp311-cp311-manylinux_2_17_x86_64.manylinux2014_x86_64.whl.metadata (5.6 kB)\n",
            "Requirement already satisfied: requests<3,>=2.24.0 in /usr/local/lib/python3.11/dist-packages (from ydata_profiling) (2.32.3)\n",
            "Requirement already satisfied: tqdm<5,>=4.48.2 in /usr/local/lib/python3.11/dist-packages (from ydata_profiling) (4.67.1)\n",
            "Requirement already satisfied: seaborn<0.14,>=0.10.1 in /usr/local/lib/python3.11/dist-packages (from ydata_profiling) (0.13.2)\n",
            "Collecting multimethod<2,>=1.4 (from ydata_profiling)\n",
            "  Downloading multimethod-1.12-py3-none-any.whl.metadata (9.6 kB)\n",
            "Collecting statsmodels<1,>=0.13.2 (from ydata_profiling)\n",
            "  Downloading statsmodels-0.14.4-cp311-cp311-manylinux_2_17_x86_64.manylinux2014_x86_64.whl.metadata (9.2 kB)\n",
            "Collecting typeguard<5,>=3 (from ydata_profiling)\n",
            "  Downloading typeguard-4.4.2-py3-none-any.whl.metadata (3.8 kB)\n",
            "Collecting imagehash==4.3.1 (from ydata_profiling)\n",
            "  Downloading ImageHash-4.3.1-py2.py3-none-any.whl.metadata (8.0 kB)\n",
            "Collecting wordcloud>=1.9.3 (from ydata_profiling)\n",
            "  Downloading wordcloud-1.9.4-cp311-cp311-manylinux_2_17_x86_64.manylinux2014_x86_64.whl.metadata (3.4 kB)\n",
            "Collecting dacite>=1.8 (from ydata_profiling)\n",
            "  Downloading dacite-1.9.2-py3-none-any.whl.metadata (17 kB)\n",
            "Collecting PyWavelets (from imagehash==4.3.1->ydata_profiling)\n",
            "  Downloading pywavelets-1.8.0-cp311-cp311-manylinux_2_17_x86_64.manylinux2014_x86_64.whl.metadata (9.0 kB)\n",
            "Requirement already satisfied: pillow in /usr/local/lib/python3.11/dist-packages (from imagehash==4.3.1->ydata_profiling) (11.1.0)\n",
            "Requirement already satisfied: MarkupSafe>=2.0 in /usr/local/lib/python3.11/dist-packages (from jinja2<3.2,>=2.11.1->ydata_profiling) (3.0.2)\n",
            "Requirement already satisfied: contourpy>=1.0.1 in /usr/local/lib/python3.11/dist-packages (from matplotlib>=3.5->ydata_profiling) (1.3.1)\n",
            "Requirement already satisfied: cycler>=0.10 in /usr/local/lib/python3.11/dist-packages (from matplotlib>=3.5->ydata_profiling) (0.12.1)\n",
            "Requirement already satisfied: fonttools>=4.22.0 in /usr/local/lib/python3.11/dist-packages (from matplotlib>=3.5->ydata_profiling) (4.56.0)\n",
            "Requirement already satisfied: kiwisolver>=1.3.1 in /usr/local/lib/python3.11/dist-packages (from matplotlib>=3.5->ydata_profiling) (1.4.8)\n",
            "Requirement already satisfied: packaging>=20.0 in /usr/local/lib/python3.11/dist-packages (from matplotlib>=3.5->ydata_profiling) (24.2)\n",
            "Requirement already satisfied: pyparsing>=2.3.1 in /usr/local/lib/python3.11/dist-packages (from matplotlib>=3.5->ydata_profiling) (3.2.1)\n",
            "Requirement already satisfied: python-dateutil>=2.7 in /usr/local/lib/python3.11/dist-packages (from matplotlib>=3.5->ydata_profiling) (2.9.0.post0)\n",
            "Requirement already satisfied: pytz>=2020.1 in /usr/local/lib/python3.11/dist-packages (from pandas!=1.4.0,<3,>1.1->ydata_profiling) (2025.1)\n",
            "Requirement already satisfied: tzdata>=2022.7 in /usr/local/lib/python3.11/dist-packages (from pandas!=1.4.0,<3,>1.1->ydata_profiling) (2025.1)\n",
            "Requirement already satisfied: joblib>=0.14.1 in /usr/local/lib/python3.11/dist-packages (from phik<0.13,>=0.11.1->ydata_profiling) (1.4.2)\n",
            "Requirement already satisfied: annotated-types>=0.6.0 in /usr/local/lib/python3.11/dist-packages (from pydantic>=2->ydata_profiling) (0.7.0)\n",
            "Requirement already satisfied: pydantic-core==2.27.2 in /usr/local/lib/python3.11/dist-packages (from pydantic>=2->ydata_profiling) (2.27.2)\n",
            "Requirement already satisfied: typing-extensions>=4.12.2 in /usr/local/lib/python3.11/dist-packages (from pydantic>=2->ydata_profiling) (4.12.2)\n",
            "Requirement already satisfied: charset-normalizer<4,>=2 in /usr/local/lib/python3.11/dist-packages (from requests<3,>=2.24.0->ydata_profiling) (3.4.1)\n",
            "Requirement already satisfied: idna<4,>=2.5 in /usr/local/lib/python3.11/dist-packages (from requests<3,>=2.24.0->ydata_profiling) (3.10)\n",
            "Requirement already satisfied: urllib3<3,>=1.21.1 in /usr/local/lib/python3.11/dist-packages (from requests<3,>=2.24.0->ydata_profiling) (2.3.0)\n",
            "Requirement already satisfied: certifi>=2017.4.17 in /usr/local/lib/python3.11/dist-packages (from requests<3,>=2.24.0->ydata_profiling) (2025.1.31)\n",
            "Collecting patsy>=0.5.6 (from statsmodels<1,>=0.13.2->ydata_profiling)\n",
            "  Downloading patsy-1.0.1-py2.py3-none-any.whl.metadata (3.3 kB)\n",
            "Requirement already satisfied: attrs>=19.3.0 in /usr/local/lib/python3.11/dist-packages (from visions<0.8.0,>=0.7.5->visions[type_image_path]<0.8.0,>=0.7.5->ydata_profiling) (25.1.0)\n",
            "Requirement already satisfied: networkx>=2.4 in /usr/local/lib/python3.11/dist-packages (from visions<0.8.0,>=0.7.5->visions[type_image_path]<0.8.0,>=0.7.5->ydata_profiling) (3.4.2)\n",
            "Requirement already satisfied: six>=1.5 in /usr/local/lib/python3.11/dist-packages (from python-dateutil>=2.7->matplotlib>=3.5->ydata_profiling) (1.17.0)\n",
            "Downloading ydata_profiling-4.12.2-py2.py3-none-any.whl (390 kB)\n",
            "\u001b[2K   \u001b[90m━━━━━━━━━━━━━━━━━━━━━━━━━━━━━━━━━━━━━━━━\u001b[0m \u001b[32m390.9/390.9 kB\u001b[0m \u001b[31m7.8 MB/s\u001b[0m eta \u001b[36m0:00:00\u001b[0m\n",
            "\u001b[?25hDownloading ImageHash-4.3.1-py2.py3-none-any.whl (296 kB)\n",
            "\u001b[2K   \u001b[90m━━━━━━━━━━━━━━━━━━━━━━━━━━━━━━━━━━━━━━━━\u001b[0m \u001b[32m296.5/296.5 kB\u001b[0m \u001b[31m21.5 MB/s\u001b[0m eta \u001b[36m0:00:00\u001b[0m\n",
            "\u001b[?25hDownloading dacite-1.9.2-py3-none-any.whl (16 kB)\n",
            "Downloading multimethod-1.12-py3-none-any.whl (10 kB)\n",
            "Downloading phik-0.12.4-cp311-cp311-manylinux_2_17_x86_64.manylinux2014_x86_64.whl (687 kB)\n",
            "\u001b[2K   \u001b[90m━━━━━━━━━━━━━━━━━━━━━━━━━━━━━━━━━━━━━━━━\u001b[0m \u001b[32m687.8/687.8 kB\u001b[0m \u001b[31m28.2 MB/s\u001b[0m eta \u001b[36m0:00:00\u001b[0m\n",
            "\u001b[?25hDownloading statsmodels-0.14.4-cp311-cp311-manylinux_2_17_x86_64.manylinux2014_x86_64.whl (10.8 MB)\n",
            "\u001b[2K   \u001b[90m━━━━━━━━━━━━━━━━━━━━━━━━━━━━━━━━━━━━━━━━\u001b[0m \u001b[32m10.8/10.8 MB\u001b[0m \u001b[31m113.5 MB/s\u001b[0m eta \u001b[36m0:00:00\u001b[0m\n",
            "\u001b[?25hDownloading typeguard-4.4.2-py3-none-any.whl (35 kB)\n",
            "Downloading visions-0.7.6-py3-none-any.whl (104 kB)\n",
            "\u001b[2K   \u001b[90m━━━━━━━━━━━━━━━━━━━━━━━━━━━━━━━━━━━━━━━━\u001b[0m \u001b[32m104.8/104.8 kB\u001b[0m \u001b[31m8.5 MB/s\u001b[0m eta \u001b[36m0:00:00\u001b[0m\n",
            "\u001b[?25hDownloading wordcloud-1.9.4-cp311-cp311-manylinux_2_17_x86_64.manylinux2014_x86_64.whl (547 kB)\n",
            "\u001b[2K   \u001b[90m━━━━━━━━━━━━━━━━━━━━━━━━━━━━━━━━━━━━━━━━\u001b[0m \u001b[32m547.9/547.9 kB\u001b[0m \u001b[31m36.2 MB/s\u001b[0m eta \u001b[36m0:00:00\u001b[0m\n",
            "\u001b[?25hDownloading patsy-1.0.1-py2.py3-none-any.whl (232 kB)\n",
            "\u001b[2K   \u001b[90m━━━━━━━━━━━━━━━━━━━━━━━━━━━━━━━━━━━━━━━━\u001b[0m \u001b[32m232.9/232.9 kB\u001b[0m \u001b[31m16.7 MB/s\u001b[0m eta \u001b[36m0:00:00\u001b[0m\n",
            "\u001b[?25hDownloading pywavelets-1.8.0-cp311-cp311-manylinux_2_17_x86_64.manylinux2014_x86_64.whl (4.5 MB)\n",
            "\u001b[2K   \u001b[90m━━━━━━━━━━━━━━━━━━━━━━━━━━━━━━━━━━━━━━━━\u001b[0m \u001b[32m4.5/4.5 MB\u001b[0m \u001b[31m96.2 MB/s\u001b[0m eta \u001b[36m0:00:00\u001b[0m\n",
            "\u001b[?25hBuilding wheels for collected packages: htmlmin\n",
            "  Building wheel for htmlmin (setup.py) ... \u001b[?25l\u001b[?25hdone\n",
            "  Created wheel for htmlmin: filename=htmlmin-0.1.12-py3-none-any.whl size=27081 sha256=54eb034a69e614fec97a7010517c232aaf5682b2286014dd6fedbfd4aca158ab\n",
            "  Stored in directory: /root/.cache/pip/wheels/8d/55/1a/19cd535375ed1ede0c996405ebffe34b196d78e2d9545723a2\n",
            "Successfully built htmlmin\n",
            "Installing collected packages: htmlmin, typeguard, PyWavelets, patsy, multimethod, dacite, imagehash, wordcloud, visions, statsmodels, phik, ydata_profiling\n",
            "Successfully installed PyWavelets-1.8.0 dacite-1.9.2 htmlmin-0.1.12 imagehash-4.3.1 multimethod-1.12 patsy-1.0.1 phik-0.12.4 statsmodels-0.14.4 typeguard-4.4.2 visions-0.7.6 wordcloud-1.9.4 ydata_profiling-4.12.2\n",
            "Requirement already satisfied: plotly in /usr/local/lib/python3.11/dist-packages (5.24.1)\n",
            "Collecting plotly\n",
            "  Downloading plotly-6.0.0-py3-none-any.whl.metadata (5.6 kB)\n",
            "Requirement already satisfied: narwhals>=1.15.1 in /usr/local/lib/python3.11/dist-packages (from plotly) (1.27.1)\n",
            "Requirement already satisfied: packaging in /usr/local/lib/python3.11/dist-packages (from plotly) (24.2)\n",
            "Downloading plotly-6.0.0-py3-none-any.whl (14.8 MB)\n",
            "\u001b[2K   \u001b[90m━━━━━━━━━━━━━━━━━━━━━━━━━━━━━━━━━━━━━━━━\u001b[0m \u001b[32m14.8/14.8 MB\u001b[0m \u001b[31m98.9 MB/s\u001b[0m eta \u001b[36m0:00:00\u001b[0m\n",
            "\u001b[?25hInstalling collected packages: plotly\n",
            "  Attempting uninstall: plotly\n",
            "    Found existing installation: plotly 5.24.1\n",
            "    Uninstalling plotly-5.24.1:\n",
            "      Successfully uninstalled plotly-5.24.1\n",
            "Successfully installed plotly-6.0.0\n"
          ]
        }
      ],
      "source": [
        "!pip install umap-learn pandas matplotlib datashader bokeh holoviews scikit-image colorcet\n",
        "!pip install densmap-learn\n",
        "!pip install streamlit\n",
        "!pip install ydata_profiling\n",
        "!pip install --upgrade plotly\n",
        "import plotly.express as px\n",
        "import sklearn.datasets\n",
        "from sklearn.model_selection import train_test_split, KFold, cross_val_score\n",
        "from sklearn.linear_model import LinearRegression\n",
        "from sklearn.metrics import mean_squared_error,r2_score, accuracy_score\n",
        "from sklearn.ensemble import RandomForestRegressor\n",
        "import pandas as pd\n",
        "import numpy as np\n",
        "import seaborn as sns\n",
        "import matplotlib.pyplot as plt\n",
        "import plotly.express as px\n",
        "import umap\n",
        "import umap.plot\n",
        "import streamlit as st\n",
        "from sklearn.decomposition import PCA\n",
        "from sklearn.preprocessing import StandardScaler\n",
        "import warnings\n",
        "import math\n",
        "import sklearn.metrics as metrics\n",
        "from sklearn.model_selection import ParameterGrid\n",
        "from sklearn.tree import DecisionTreeRegressor\n",
        "import matplotlib\n",
        "from sklearn.metrics import mean_squared_error\n",
        "from sklearn.dummy import DummyRegressor\n",
        "!pip install country_converter --upgrade\n",
        "import country_converter as coco\n",
        "import matplotlib.ticker as mticker\n",
        "from scipy.stats import linregress\n",
        "import matplotlib.style as style\n",
        "from sklearn.preprocessing import StandardScaler, OneHotEncoder, LabelEncoder\n",
        "from sklearn.impute import SimpleImputer\n",
        "from sklearn.model_selection import train_test_split\n",
        "from scipy.stats import f_oneway\n",
        "warnings.filterwarnings('ignore')\n",
        "%matplotlib inline\n",
        "import geopandas as gpd\n",
        "import nltk\n",
        "import re\n",
        "sns.set_theme(style='darkgrid', palette='colorblind')\n",
        "from sklearn.preprocessing import LabelEncoder\n",
        "le = LabelEncoder()\n",
        "#Model\n",
        "from sklearn.model_selection import GridSearchCV, train_test_split\n",
        "from sklearn.ensemble import RandomForestRegressor, GradientBoostingRegressor\n",
        "from xgboost import XGBRegressor\n",
        "from sklearn.metrics import r2_score, mean_absolute_error, mean_squared_error\n",
        "from sklearn.linear_model import LogisticRegression\n",
        "from sklearn.metrics import accuracy_score # Import accuracy_score from sklearn.metrics\n",
        "from IPython.display import FileLink\n",
        "from datetime import datetime, timezone\n",
        "import timeit\n",
        "from geopy.distance import geodesic as GD\n",
        "try:\n",
        "    import haversine as hvsn\n",
        "    from haversine import Unit\n",
        "except ModuleNotFoundError:\n",
        "    !pip install haversine\n",
        "import plotly.graph_objs as go\n",
        "import plotly.offline as pyo\n",
        "import plotly.figure_factory as ff\n",
        "import plotly.io as pio\n",
        "from wordcloud import WordCloud\n",
        "color_pal = sns.color_palette()\n",
        "# Use 'dark_background' style instead of 'seaborn-dark-palette'\n",
        "plt.style.use('dark_background')\n",
        "# The 'dark_background' style provides a dark theme.\n",
        "# If you specifically want a Seaborn-like dark theme, you can use:\n",
        "# plt.style.use('seaborn-darkgrid')\n",
        "import missingno as mno\n",
        "import shap\n",
        "from ydata_profiling import ProfileReport\n",
        "import os"
      ]
    },
    {
      "cell_type": "markdown",
      "metadata": {
        "id": "oznSPtPDMIN9"
      },
      "source": [
        "## 2.2. Stažení a načtení dat"
      ]
    },
    {
      "cell_type": "markdown",
      "metadata": {
        "id": "EA7BtJk3MoMN"
      },
      "source": [
        "Následující kód stáhne datový soubor a načte ho do Pandas DataFrame."
      ]
    },
    {
      "cell_type": "code",
      "execution_count": null,
      "metadata": {
        "id": "h0so1Ea4E5Db"
      },
      "outputs": [],
      "source": [
        "# Načtení dat\n",
        "df = pd.read_csv('Eartquakes-1990-2023.csv')"
      ]
    },
    {
      "cell_type": "markdown",
      "metadata": {
        "id": "VLvUcwNRMusd"
      },
      "source": [
        "## 2.3. Kontrola dat"
      ]
    },
    {
      "cell_type": "markdown",
      "metadata": {
        "id": "mn3iXSxzM504"
      },
      "source": [
        "Prozkoumejme prvních několik řádků datového souboru, abychom pochopili jeho strukturu a obsah."
      ]
    },
    {
      "cell_type": "code",
      "execution_count": null,
      "metadata": {
        "id": "51m4-g4EE5F0"
      },
      "outputs": [],
      "source": [
        "print(\"\\nPrvních 5 řádků:\")\n",
        "df.head()"
      ]
    },
    {
      "cell_type": "code",
      "execution_count": null,
      "metadata": {
        "id": "WST8sP1DNA2v"
      },
      "outputs": [],
      "source": [
        "# Základní informace o datasetu\n",
        "df.info()"
      ]
    },
    {
      "cell_type": "code",
      "execution_count": null,
      "metadata": {
        "id": "zX5a8xIOE5H-"
      },
      "outputs": [],
      "source": [
        "df"
      ]
    },
    {
      "cell_type": "code",
      "execution_count": null,
      "metadata": {
        "id": "NEFLknUUE5Nk"
      },
      "outputs": [],
      "source": [
        "df.describe() # Základní statistiky pro číselné sloupce\n"
      ]
    },
    {
      "cell_type": "code",
      "execution_count": null,
      "metadata": {
        "id": "P2qP-3tVGl4X"
      },
      "outputs": [],
      "source": [
        "df.isna().sum()"
      ]
    },
    {
      "cell_type": "markdown",
      "metadata": {
        "id": "6MgsDu6qNMQG"
      },
      "source": [
        "## 2.4. Čištění dat"
      ]
    },
    {
      "cell_type": "markdown",
      "metadata": {
        "id": "BF84ylRWNQAP"
      },
      "source": [
        "kontrola duplicitních řádků a jejich smazání"
      ]
    },
    {
      "cell_type": "code",
      "execution_count": null,
      "metadata": {
        "id": "24mL19OpGl6q"
      },
      "outputs": [],
      "source": [
        "# Nalezení duplicitních řádků\n",
        "duplicate_rows = df[df.duplicated(keep='first')]\n",
        "\n",
        "# Počet duplicitních řádků\n",
        "num_duplicates = duplicate_rows.shape[0]\n",
        "\n",
        "# Zobrazení duplicitních řádků\n",
        "print(f\"Počet duplicitních řádků: {num_duplicates}\")\n",
        "duplicate_rows\n"
      ]
    },
    {
      "cell_type": "code",
      "execution_count": null,
      "metadata": {
        "id": "6pMKKY4vGl8y"
      },
      "outputs": [],
      "source": [
        "# Odstranění duplicitních řádků\n",
        "df.drop_duplicates(keep='first', inplace=True)"
      ]
    },
    {
      "cell_type": "markdown",
      "metadata": {
        "id": "095g51uGNdU3"
      },
      "source": [
        "# 3. Explorativní analýza dat (EDA)"
      ]
    },
    {
      "cell_type": "markdown",
      "metadata": {
        "id": "ptM7BD2vOzAq"
      },
      "source": [
        "## 3.1. Analýza časových řad"
      ]
    },
    {
      "cell_type": "markdown",
      "metadata": {
        "id": "ufnPiS2dO2y7"
      },
      "source": [
        "Převod sloupce 'date' na objekty datetime a extrakce časové charakteristiky."
      ]
    },
    {
      "cell_type": "code",
      "execution_count": null,
      "metadata": {
        "id": "-2MaWpwOGl_J"
      },
      "outputs": [],
      "source": [
        "if not pd.api.types.is_datetime64_any_dtype(df['date']):\n",
        "    df['date'] = pd.to_datetime(df['date'], errors='coerce')\n",
        "\n",
        "df['time'] = pd.to_datetime(df['time'], errors='coerce').dt.time"
      ]
    },
    {
      "cell_type": "markdown",
      "metadata": {
        "id": "tnMrR7J4PPip"
      },
      "source": [
        "### 3.1.1. Trend magnitudy podle roku"
      ]
    },
    {
      "cell_type": "code",
      "execution_count": null,
      "metadata": {
        "id": "0iFHo48XGmBS"
      },
      "outputs": [],
      "source": [
        "import numpy as np\n",
        "import matplotlib.pyplot as plt\n",
        "\n",
        "df['date'] = pd.to_datetime(df['date'], errors='coerce')\n",
        "df = df.dropna(subset=['date'])\n",
        "d = df.set_index(\"date\")\n",
        "\n",
        "d['year'] = d.index.year\n",
        "x = d['year'].values\n",
        "y = d['magnitudo'].values\n",
        "\n",
        "coefficients = np.polyfit(x, y, 1)\n",
        "linear_fit = np.poly1d(coefficients)\n",
        "\n",
        "plt.figure(figsize=(16, 5))\n",
        "plt.plot(d.index, d[\"magnitudo\"], \".\", label=\"Data\")\n",
        "plt.plot(d.index, linear_fit(x), \"-\", color=\"red\", label=\"Linear Regression\")\n",
        "plt.title(\"Trend magnitudy podle roku\")\n",
        "plt.xlabel(\"Rok\")\n",
        "plt.ylabel(\"Magnitudo\")\n",
        "plt.legend()\n",
        "plt.show()\n"
      ]
    },
    {
      "cell_type": "markdown",
      "metadata": {
        "id": "2T0Digd1Qhxt"
      },
      "source": [
        "### 3.1.2. Distribuce magnitudy"
      ]
    },
    {
      "cell_type": "code",
      "execution_count": null,
      "metadata": {
        "id": "PWZzPc6sGmDi"
      },
      "outputs": [],
      "source": [
        "plt.figure(figsize = (16,7))\n",
        "sns.histplot(df[\"magnitudo\"], bins = 250)\n",
        "plt.title(\"Bimodální distribuce magnitudy\")\n",
        "plt.show()\n"
      ]
    },
    {
      "cell_type": "markdown",
      "metadata": {
        "id": "pAOWztJlQrlV"
      },
      "source": [
        "## 3.2. Geografická analýza"
      ]
    },
    {
      "cell_type": "markdown",
      "metadata": {
        "id": "aLChqzbrQxwN"
      },
      "source": [
        "### 3.2.1. Mapa hustoty zemětřesení"
      ]
    },
    {
      "cell_type": "code",
      "execution_count": null,
      "metadata": {
        "id": "9Rzq7xEWQva5"
      },
      "outputs": [],
      "source": [
        "def filter_plot_day(df, date_1,date_2):\n",
        "    \"\"\" Vrátí mapu filtrovanou podle data\"\"\"\n",
        "    df.copy()\n",
        "    df = df.loc[(df.date > date_1) & (df.date < date_2)]\n",
        "    fig = px.density_mapbox(df, lat='latitude', lon='longitude', z='magnitudo', radius=10,\n",
        "    center=dict(lat=0, lon=180), zoom=0,\n",
        "    title =f\"<br> Magnituda zemětřesení mezi {date_1} a {date_2}\")\n",
        "    fig.update_layout(mapbox_style=\"open-street-map\")\n",
        "    fig.show()\n",
        "\n",
        "filter_plot_day(df, date_1 = \"2023-02-01\", date_2 =\"2023-02-02\")\n"
      ]
    },
    {
      "cell_type": "markdown",
      "metadata": {
        "id": "z_MHfAWfQ9bV"
      },
      "source": [
        "### 3.2.2. Nejsilnější zemětřesení podle roku"
      ]
    },
    {
      "cell_type": "code",
      "execution_count": null,
      "metadata": {
        "id": "y01KEntoCm6T"
      },
      "outputs": [],
      "source": [
        "def plot_strongest(df):\n",
        "    # Create 'year' column from 'date' column\n",
        "    df['year'] = df['date'].dt.year\n",
        "\n",
        "    gb_top = df.groupby([\"state\"])\\\n",
        "    .agg({\"significance\":\"max\", \"magnitudo\":\"max\"})\\\n",
        "    .reset_index()\n",
        "\n",
        "    b = df[[\"year\", \"state\",\"significance\",\"longitude\", \"latitude\",\"magnitudo\"]]\n",
        "    merge = pd.merge(gb_top, b, how = \"left\", on =[\"state\",\"significance\", \"magnitudo\"]).sort_values(by=\"year\")\n",
        "\n",
        "\n",
        "    fig = px.scatter_geo(merge,\n",
        "    lat=\"latitude\", lon=\"longitude\",\n",
        "    size=\"significance\",\n",
        "    animation_frame=\"year\",\n",
        "    projection=\"natural earth\",\n",
        "    title = \"Nejsilnější zemětřesení podle roku\")\n",
        "    fig.show()\n",
        "\n",
        "plot_strongest(df)"
      ]
    },
    {
      "cell_type": "markdown",
      "metadata": {
        "id": "Br0Sg1DhRDkA"
      },
      "source": [
        "## 3.3. Analýza kategorických proměnných"
      ]
    },
    {
      "cell_type": "markdown",
      "metadata": {
        "id": "pkXzRKuURG1v"
      },
      "source": [
        "### 3.3.1. Státy s nejvyšším počtem zemětřesení"
      ]
    },
    {
      "cell_type": "code",
      "execution_count": null,
      "metadata": {
        "id": "Pgx0imRDOvKx"
      },
      "outputs": [],
      "source": [
        "# Získání 5 států s nejvyšším počtem zemětřesení\n",
        "top_5_states = (\n",
        "    df.groupby(\"state\")\n",
        "    .size()\n",
        "    .to_frame(name=\"count\")\n",
        "    .reset_index()\n",
        "    .sort_values(by=[\"count\"], ascending=False)\n",
        "    .head(5)[\"state\"]\n",
        ")\n",
        "\n",
        "# Získání unikátních hodnot 5 nejlepších států\n",
        "top_5_states_unique = top_5_states.unique()\n",
        "\n",
        "# Tisk unikátních hodnot\n",
        "print(top_5_states_unique)\n",
        "\n",
        "# Vytvoření DataFrame s počty zemětřesení\n",
        "earthquake_counts_df = pd.DataFrame(\n",
        "    data={\"state\": top_5_states, \"count\": top_5_states.index}\n",
        ")\n",
        "\n",
        "# Vytvoření sloupcového grafu počtů zemětřesení\n",
        "fig = px.bar(\n",
        "    earthquake_counts_df,\n",
        "    x=\"state\",\n",
        "    y=\"count\",\n",
        "    title=\"5 států s nejvyšším počtem zemětřesení (1990-2023)\",\n",
        ")\n",
        "\n",
        "# Zobrazení sloupcového grafu\n",
        "fig.show()\n"
      ]
    },
    {
      "cell_type": "markdown",
      "metadata": {
        "id": "ZM7bWaxhRQlv"
      },
      "source": [
        "### 3.3.2. Státy s nejnižším počtem zemětřesení\n",
        "\n"
      ]
    },
    {
      "cell_type": "code",
      "execution_count": null,
      "metadata": {
        "id": "LEpxV_zARPtd"
      },
      "outputs": [],
      "source": [
        "# Získání 5 států s nejnižším počtem zemětřesení\n",
        "bottom_5_states = (\n",
        "    df.groupby(\"state\")\n",
        "    .size()\n",
        "    .to_frame(name=\"count\")\n",
        "    .reset_index()\n",
        "    .sort_values(by=[\"count\"], ascending=True)\n",
        "    .head(5)\n",
        ")\n",
        "\n",
        "# Vytvoření DataFrame s počty zemětřesení\n",
        "bottom_earthquake_counts_df = pd.DataFrame(\n",
        "    data={\"state\": bottom_5_states[\"state\"],\n",
        "          \"count\": bottom_5_states[\"count\"]}\n",
        ")\n",
        "\n",
        "# Vytvoření sloupcového grafu počtů zemětřesení\n",
        "fig = px.bar(\n",
        "    bottom_earthquake_counts_df,\n",
        "    x=\"state\",\n",
        "    y=\"count\",\n",
        "    title=\"5 států s nejnižším počtem zemětřesení (1990-2023)\",\n",
        ")\n",
        "\n",
        "# Zobrazení sloupcového grafu\n",
        "fig.show()\n"
      ]
    },
    {
      "cell_type": "markdown",
      "metadata": {
        "id": "GoqDoYvjRXM_"
      },
      "source": [
        "## 3.4. Analýza magnitudy"
      ]
    },
    {
      "cell_type": "markdown",
      "metadata": {
        "id": "Tf6cEr3FRcQg"
      },
      "source": [
        "### 3.4.1. 5 nejsilnějších zemětřesení"
      ]
    },
    {
      "cell_type": "code",
      "execution_count": null,
      "metadata": {
        "id": "D42kLOyLOvNE"
      },
      "outputs": [],
      "source": [
        "# Získání 5 nejsilnějších zemětřesení\n",
        "top_5_earthquakes = (\n",
        "    df.sort_values(by=[\"magnitudo\"], ascending=False)\n",
        "    .head(5)\n",
        ")\n",
        "\n",
        "# Vytvoření mapy zemětřesení\n",
        "fig = px.scatter_geo(\n",
        "    top_5_earthquakes,\n",
        "    lat=\"latitude\",\n",
        "    lon=\"longitude\",\n",
        "    size=\"magnitudo\",\n",
        "    color=\"magnitudo\",\n",
        "    title=\"5 nejsilnějších zemětřesení (1990-2023)\",\n",
        ")\n",
        "\n",
        "# Zobrazení mapy\n",
        "fig.show()\n"
      ]
    },
    {
      "cell_type": "markdown",
      "metadata": {
        "id": "mh0sdJAfRl2O"
      },
      "source": [
        "# 4. Prediktivní modelování"
      ]
    },
    {
      "cell_type": "markdown",
      "metadata": {
        "id": "Nze3RpHrRu6o"
      },
      "source": [
        "## 4.1. Předzpracování dat pro modelování"
      ]
    },
    {
      "cell_type": "markdown",
      "metadata": {
        "id": "qwGBha7-RzCw"
      },
      "source": [
        "Použijeme jednoduchý model lineární regrese k predikci magnitudy zemětřesení. Nejprve předzpracujeme data výběrem numerických charakteristik a rozdělením dat na trénovací a testovací."
      ]
    },
    {
      "cell_type": "code",
      "execution_count": null,
      "metadata": {
        "id": "JwdlatqgRwYF"
      },
      "outputs": [],
      "source": [
        "# Předzpracování dat (odstranění sloupce \"place\" a ponechání pouze numerických charakteristik)\n",
        "numerical_columns = [\"magnitudo\", \"depth\", \"latitude\", \"longitude\"]\n",
        "data_numeric = df[numerical_columns]\n",
        "\n",
        "# Oddělení vstupních charakteristik (X) a cílové proměnné (y)\n",
        "X = data_numeric.drop(columns=[\"magnitudo\"])\n",
        "y = data_numeric[\"magnitudo\"]\n",
        "\n",
        "# Rozdělení dat na trénovací a testovací sadu\n",
        "X_train, X_test, y_train, y_test = train_test_split(X, y, test_size=0.25)\n"
      ]
    },
    {
      "cell_type": "markdown",
      "metadata": {
        "id": "s77FrSccR6h2"
      },
      "source": [
        "## 4.2. Trénování a vyhodnocení modelu"
      ]
    },
    {
      "cell_type": "markdown",
      "metadata": {
        "id": "ZmxbRZqUR--m"
      },
      "source": [
        " Trénování modelu lineární regrese a vyhodnocení jeho výkonu pomocí střední kvadratické chyby (MSE)."
      ]
    },
    {
      "cell_type": "code",
      "execution_count": null,
      "metadata": {
        "id": "tM9D2DdAOvQ0"
      },
      "outputs": [],
      "source": [
        "# Vytvoření modelu lineární regrese\n",
        "model = LinearRegression()\n",
        "\n",
        "# Trénování modelu\n",
        "model.fit(X_train, y_train)\n",
        "\n",
        "# Predikce pomocí modelu\n",
        "y_pred = model.predict(X_test)\n",
        "\n",
        "# Výpočet střední kvadratické chyby\n",
        "mse = mean_squared_error(y_test, y_pred)\n",
        "\n",
        "# Tisk střední kvadratické chyby\n",
        "print(\"Střední kvadratická chyba:\", mse)\n"
      ]
    },
    {
      "cell_type": "markdown",
      "metadata": {
        "id": "iPnLlLNxSOJ4"
      },
      "source": [
        "## 4.3. Predikce modelu"
      ]
    },
    {
      "cell_type": "markdown",
      "metadata": {
        "id": "xr9wYVyTSSZ4"
      },
      "source": [
        "Zobrazení několika příkladů predikcí z modelu"
      ]
    },
    {
      "cell_type": "code",
      "execution_count": null,
      "metadata": {
        "id": "IsuNBs5dOvTR"
      },
      "outputs": [],
      "source": [
        "y_pred = model.predict(X_test)\n",
        "for i, (actual, predicted) in enumerate(zip(y_test, y_pred), 1):\n",
        "    if i % 1000 == 0:\n",
        "        print(f\"Iterace: {i} | Skutečná magnituda: {actual:.2f} | Predikovaná magnituda: {predicted:.2f}\")\n"
      ]
    },
    {
      "cell_type": "markdown",
      "metadata": {
        "id": "WVxyVvkgSgJ5"
      },
      "source": [
        "# 5. Pokročilá EDA a vizualizace"
      ]
    },
    {
      "cell_type": "markdown",
      "metadata": {
        "id": "wiVSdJViSmSi"
      },
      "source": [
        " ## 5.0. Profilování dat"
      ]
    },
    {
      "cell_type": "markdown",
      "metadata": {
        "id": "A9ABGwv9SpGo"
      },
      "source": [
        "Generování komplexního profilu dat pomocí ydata_profiling."
      ]
    },
    {
      "cell_type": "code",
      "execution_count": null,
      "metadata": {
        "id": "khDJNB-YOvV5"
      },
      "outputs": [],
      "source": [
        "# Import třídy ProfileReport z knihovny ydata_profiling\n",
        "from ydata_profiling import ProfileReport\n",
        "\n",
        "# Vytvoření komplexní zprávy o profilu pro DataFrame 'df'\n",
        "profile = ProfileReport(df)\n",
        "profile\n",
        "#profile.to_notebook_iframe()\n"
      ]
    },
    {
      "cell_type": "markdown",
      "metadata": {
        "id": "ney2F9QY1Kq7"
      },
      "source": [
        "## 5.1 Analýza Rozložení"
      ]
    },
    {
      "cell_type": "markdown",
      "metadata": {
        "id": "fnfvTz_y1Oue"
      },
      "source": [
        "### 5.1.1 Rozložení Magnitudy"
      ]
    },
    {
      "cell_type": "code",
      "execution_count": null,
      "metadata": {
        "id": "vUEpODrCSvb5"
      },
      "outputs": [],
      "source": [
        "plt.figure(figsize=(12,6))\n",
        "sns.histplot(df[\"magnitudo\"], bins=100, kde=True)\n",
        "plt.title(\"Rozložení Magnitudy Zemětřesení\")\n",
        "plt.xlabel(\"Magnituda\")\n",
        "plt.ylabel(\"Četnost\")\n",
        "\n",
        "# Nastavení celých čísel na ose X\n",
        "# Vytvoří značky pro celá čísla od minimální po maximální hodnotu v datech\n",
        "x_ticks = range(int(df[\"magnitudo\"].min()), int(df[\"magnitudo\"].max()) + 1)\n",
        "plt.xticks(x_ticks)\n",
        "\n",
        "plt.show()\n"
      ]
    },
    {
      "cell_type": "markdown",
      "metadata": {
        "id": "P2UiLUTj3saN"
      },
      "source": [
        "Rozložení magnitudy ukazuje:\n",
        "\n",
        "*   Většina zemětřesení je mezi 0.0 a 5.0 na Richterově stupnici\n",
        "*   Rozložení je mírně vychýlené doprava\n",
        "*   Velmi málo zemětřesení přesahuje magnitudu 7.0\n",
        "\n",
        "\n",
        "*   Pravostranná šikmost: Většina zemětřesení má nízkou magnitudu (0–2), zatímco silná zemětřesení (nad 5) jsou vzácná.\n",
        "\n",
        "*   Bimodální rozložení: Dva vrcholy – hlavní kolem magnitudy 1 a menší kolem 4–5.\n",
        "\n",
        "*   Četnost: Nejvyšší četnost je u magnitudy 1 (přes 300 000 výskytů).\n",
        "\n",
        "*   Praktický význam: Slabá zemětřesení jsou běžná, silná jsou spíše vzácná.\n"
      ]
    },
    {
      "cell_type": "markdown",
      "metadata": {
        "id": "xC2G30y97kZn"
      },
      "source": [
        "### 5.1.2 Rozložení Hloubky\n"
      ]
    },
    {
      "cell_type": "code",
      "execution_count": null,
      "metadata": {
        "id": "rWSdXP-7Svd6"
      },
      "outputs": [],
      "source": [
        "plt.figure(figsize=(12,6))\n",
        "sns.histplot(df[\"depth\"], bins=100, kde=True)\n",
        "plt.title(\"Rozložení Hloubek Zemětřesení\")\n",
        "plt.xlabel(\"Hloubka (km)\")\n",
        "plt.ylabel(\"Četnost\")\n",
        "plt.show()"
      ]
    },
    {
      "cell_type": "markdown",
      "metadata": {
        "id": "6KIp44cu7tbN"
      },
      "source": [
        "Klíčová pozorování o hloubce:\n",
        "\n",
        "*   Většina zemětřesení nastává v prvních 100 km hloubky\n",
        "*   Existuje dlouhý chvost směrem k hlubším zemětřesením\n",
        "*   Medián hloubky je přibližně 7.7 km"
      ]
    },
    {
      "cell_type": "markdown",
      "metadata": {
        "id": "bKIoRsYw8FZN"
      },
      "source": [
        "## 5.2 Geografická Analýza"
      ]
    },
    {
      "cell_type": "markdown",
      "metadata": {
        "id": "U8am0LIS8IuQ"
      },
      "source": [
        "### 5.2.1 Mapa Hustoty Zemětřesení\n"
      ]
    },
    {
      "cell_type": "code",
      "execution_count": null,
      "metadata": {
        "id": "se_tyUQ79JHL"
      },
      "outputs": [],
      "source": [
        "fig = px.density_mapbox(\n",
        "    df,\n",
        "    lat='latitude',\n",
        "    lon='longitude',\n",
        "    z='magnitudo',\n",
        "    radius=10,\n",
        "    center=dict(lat=0, lon=180), # Set the center\n",
        "    zoom=0, # Set initial zoom\n",
        "    mapbox_style=\"open-street-map\", # Provide a style\n",
        "    title=\"Globální Hustota Zemětřesení\"\n",
        ")\n",
        "\n",
        "fig.show()"
      ]
    },
    {
      "cell_type": "code",
      "execution_count": null,
      "metadata": {
        "id": "bpigD575-gWZ"
      },
      "outputs": [],
      "source": [
        "fig = px.scatter_geo(\n",
        "    df,\n",
        "    lat='latitude',\n",
        "    lon='longitude',\n",
        "    size=df['magnitudo'].abs() + 0.1,  # Use absolute value and add small offset\n",
        "    color='magnitudo',\n",
        "    size_max=5,\n",
        "    title=\"Globální Hustota Zemětřesení\"\n",
        ")\n",
        "\n",
        "fig.show()"
      ]
    },
    {
      "cell_type": "markdown",
      "metadata": {
        "id": "a-IYr-oW8dgl"
      },
      "source": [
        "Geografické vzory odhalují:\n",
        "\n",
        "*   Vysokou koncentraci podél hranic tektonických desek\n",
        "*   Jasně viditelný Pacifický \"Ohnivý kruh\"\n",
        "*   Nižší aktivitu ve vnitrozemí kontinentů"
      ]
    },
    {
      "cell_type": "markdown",
      "metadata": {
        "id": "PMjkBTJk819I"
      },
      "source": [
        "### 5.2.2 Magnituda podle Regionů\n"
      ]
    },
    {
      "cell_type": "code",
      "execution_count": null,
      "metadata": {
        "id": "XFt5dQegSviQ"
      },
      "outputs": [],
      "source": [
        "top_10_states = df.groupby('state')['magnitudo'].mean().sort_values(ascending=False).head(10)\n",
        "\n",
        "plt.figure(figsize=(12,6))\n",
        "top_10_states.plot(kind='bar')\n",
        "plt.title(\"Průměrná Magnituda v Top 10 Státech/Regionech\")\n",
        "plt.xticks(rotation=45)\n",
        "plt.show()\n"
      ]
    },
    {
      "cell_type": "markdown",
      "metadata": {
        "id": "e9gkMq6787q0"
      },
      "source": [
        "## 5.3 Časové Vzory\n"
      ]
    },
    {
      "cell_type": "markdown",
      "metadata": {
        "id": "AW2irJ4K8-cX"
      },
      "source": [
        "### 5.3.1 Měsíční Rozložení\n"
      ]
    },
    {
      "cell_type": "code",
      "execution_count": null,
      "metadata": {
        "id": "QDLOCvM8848E"
      },
      "outputs": [],
      "source": [
        "monthly_counts = df.groupby(df['date'].dt.month)['magnitudo'].count()\n",
        "plt.figure(figsize=(12,6))\n",
        "monthly_counts.plot(kind='line', marker='o')\n",
        "plt.title(\"Měsíční Rozložení Zemětřesení\")\n",
        "plt.xlabel(\"Měsíc\")\n",
        "plt.ylabel(\"Počet Zemětřesení\")\n",
        "plt.show()\n"
      ]
    },
    {
      "cell_type": "markdown",
      "metadata": {
        "id": "wb2Yay9k9DYe"
      },
      "source": [
        "Sezónní vzory ukazují:\n",
        "\n",
        "*   Mírný nárůst aktivity během zimních měsíců\n",
        "*   Nižší aktivitu během léta\n",
        "*   Konzistentní vzor napříč roky"
      ]
    },
    {
      "cell_type": "markdown",
      "metadata": {
        "id": "WHkrh-3w9R6W"
      },
      "source": [
        "### 5.3.2 Roční Trendy\n"
      ]
    },
    {
      "cell_type": "code",
      "execution_count": null,
      "metadata": {
        "id": "nvv3CxJw84-R"
      },
      "outputs": [],
      "source": [
        "yearly_avg = df.groupby(df['date'].dt.year)['magnitudo'].mean()\n",
        "plt.figure(figsize=(12,6))\n",
        "yearly_avg.plot(kind='line', marker='o')\n",
        "plt.title(\"Průměrná Magnituda podle Roku\")\n",
        "plt.xlabel(\"Rok\")\n",
        "plt.ylabel(\"Průměrná Magnituda\")\n",
        "plt.show()\n"
      ]
    },
    {
      "cell_type": "markdown",
      "metadata": {
        "id": "UsI8EtI-9Zc8"
      },
      "source": [
        "Dlouhodobé trendy naznačují:\n",
        "\n",
        "*   Relativně stabilní průměrnou magnitudu v čase\n",
        "*   Mírný pokles průměrné magnitudy od roku 2010\n",
        "*   Zvýšenou detekci menších zemětřesení"
      ]
    },
    {
      "cell_type": "markdown",
      "metadata": {
        "id": "CfaPFZtR9jXN"
      },
      "source": [
        "## 5.4 Vztahy mezi Vlastnostmi\n"
      ]
    },
    {
      "cell_type": "markdown",
      "metadata": {
        "id": "Ntz0UgGU9mD3"
      },
      "source": [
        "### 5.4.1 Magnituda vs. Hloubka\n"
      ]
    },
    {
      "cell_type": "code",
      "execution_count": null,
      "metadata": {
        "id": "zYwpeI9-85Ae"
      },
      "outputs": [],
      "source": [
        "plt.figure(figsize=(10,6))\n",
        "sns.scatterplot(data=df, x='depth', y='magnitudo', alpha=0.5)\n",
        "plt.title(\"Magnituda vs. Hloubka\")\n",
        "plt.xlabel(\"Hloubka (km)\")\n",
        "plt.ylabel(\"Magnituda\")\n",
        "plt.show()\n"
      ]
    },
    {
      "cell_type": "markdown",
      "metadata": {
        "id": "Q590P9ZE9rX-"
      },
      "source": [
        "Vztah ukazuje:\n",
        "\n",
        "*   Slabou pozitivní korelaci (r=0.357)\n",
        "*   Zemětřesení s vyšší magnitudou mají tendenci vznikat ve větších hloubkách\n",
        "*   Významný rozptyl ve vztahu"
      ]
    },
    {
      "cell_type": "markdown",
      "metadata": {
        "id": "71aNY80x-DVd"
      },
      "source": [
        "### 5.4.2 Analýza Výskytu Tsunami\n"
      ]
    },
    {
      "cell_type": "code",
      "execution_count": null,
      "metadata": {
        "id": "jKTVElkK85Cu"
      },
      "outputs": [],
      "source": [
        "tsunami_stats = df.groupby('tsunami')['magnitudo'].agg(['mean', 'count'])\n"
      ]
    },
    {
      "cell_type": "markdown",
      "metadata": {
        "id": "wVBtkSPH-KO-"
      },
      "source": [
        "Klíčová zjištění:\n",
        "\n",
        "*   Tsunami jsou vzácné události (0.49% zemětřesení)\n",
        "*   Silná korelace mezi magnitudou a výskytem tsunami\n",
        "*   Průměrná magnituda pro zemětřesení vyvolávající tsunami je výrazně vyšší"
      ]
    },
    {
      "cell_type": "markdown",
      "metadata": {
        "id": "Wgz_gfLM-Rvs"
      },
      "source": [
        "## 5.5 Statistické Shrnutí\n"
      ]
    },
    {
      "cell_type": "markdown",
      "metadata": {
        "id": "qzy7v2U9-US9"
      },
      "source": [
        "### 5.5.1 Klíčové Metriky\n"
      ]
    },
    {
      "cell_type": "markdown",
      "metadata": {
        "id": "zgFFjx_S-Xhn"
      },
      "source": [
        "### 5.5.2 Charakteristiky Rozložení\n",
        "\n",
        "\n",
        "*   Rozložení magnitudy je přibližně log-normální\n",
        "*   95 zemětřesení spadá mezi 0.9 a 4.3\n",
        "*   Významné pravostranné zešikmení (*skewness* = 1.84)\n",
        "*   Těžké chvosty rozložení (*kurtosis* = 4.12)\n",
        "\n",
        "Tato komplexní analýza odhaluje složité vzory ve výskytu a charakteristikách zemětřesení, poskytující cenné poznatky pro vědecké porozumění i praktické hodnocení rizik.\n",
        "\n"
      ]
    },
    {
      "cell_type": "markdown",
      "metadata": {
        "id": "kt1VsSvo_D-G"
      },
      "source": [
        "# 6. Korelační Analýza\n"
      ]
    },
    {
      "cell_type": "markdown",
      "metadata": {
        "id": "bUsDBkFN_GlB"
      },
      "source": [
        "## 6.1 Matice Korelace Vlastností\n"
      ]
    },
    {
      "cell_type": "code",
      "execution_count": null,
      "metadata": {
        "id": "FZJtaC_k-Fz7"
      },
      "outputs": [],
      "source": [
        "# Select only numeric columns for correlation analysis\n",
        "numeric_columns = df.select_dtypes(include=np.number).columns\n",
        "Corr_Matrix = df[numeric_columns].corr()\n",
        "\n",
        "plt.figure(figsize=(25,25))\n",
        "sns.heatmap(Corr_Matrix, annot=True, cmap='BuPu', center=0)\n",
        "plt.title(\"Korelační Matice Numerických Vlastností\")\n",
        "plt.show()"
      ]
    },
    {
      "cell_type": "markdown",
      "metadata": {
        "id": "NrkdCx_U_W4u"
      },
      "source": [
        "## 6.2 Klíčové Korelace s Magnitudou"
      ]
    },
    {
      "cell_type": "markdown",
      "metadata": {
        "id": "Sy0pRNY9_cg5"
      },
      "source": [
        "Nejvýznamnější korelace se silou zemětřesení jsou:\n",
        "\n",
        "Nejvíce Pozitivně Korelované:"
      ]
    },
    {
      "cell_type": "code",
      "execution_count": null,
      "metadata": {
        "id": "WmKm6hxX85Ey"
      },
      "outputs": [],
      "source": [
        "print('5 Vlastností s Nejvyšší Pozitivní Korelací s Magnitudou:')\n",
        "Corr_Matrix['magnitudo'].sort_values(ascending=False).head(5)\n"
      ]
    },
    {
      "cell_type": "markdown",
      "metadata": {
        "id": "Z30RAf3z_g3y"
      },
      "source": [
        "Nejvíce Negativně Korelované:\n",
        "\n"
      ]
    },
    {
      "cell_type": "code",
      "execution_count": null,
      "metadata": {
        "id": "xbHNjMzF85Gt"
      },
      "outputs": [],
      "source": [
        "print('5 Vlastností s Nejvyšší Negativní Korelací s Magnitudem:')\n",
        "Corr_Matrix['magnitudo'].sort_values(ascending=True).head(5)\n"
      ]
    },
    {
      "cell_type": "markdown",
      "metadata": {
        "id": "_4q7Odcm_k62"
      },
      "source": [
        "# 7. Klíčová Zjištění a Závěry\n"
      ]
    },
    {
      "cell_type": "markdown",
      "metadata": {
        "id": "n1jRgHfs_tlh"
      },
      "source": [
        "## 7.1 Časové Vzory\n"
      ]
    },
    {
      "cell_type": "markdown",
      "metadata": {
        "id": "sCbRWAx-_1w2"
      },
      "source": [
        "*   Frekvence zemětřesení vykazuje rostoucí trend od 1990 do 2023\n",
        "*   Existují sezónní variace s mírně vyšší aktivitou v určitých měsících\n",
        "*   Průměrná magnituda zůstala v průběhu času relativně stabilní"
      ]
    },
    {
      "cell_type": "markdown",
      "metadata": {
        "id": "LoWhv11kBnuk"
      },
      "source": [
        "## 7.2 Geografické Rozložení\n"
      ]
    },
    {
      "cell_type": "markdown",
      "metadata": {
        "id": "DCoUnmRhBv3n"
      },
      "source": []
    },
    {
      "cell_type": "markdown",
      "metadata": {
        "id": "I0kTQCb7BrA9"
      },
      "source": [
        "*   Kalifornie, Aljaška a Nevada vykazují nejvyšší frekvenci zemětřesení\n",
        "*   Hlubší zemětřesení se vyskytují v specifických geografických oblastech\n",
        "*   Pobřežní oblasti vykazují vyšší pravděpodobnost vzniku tsunami"
      ]
    },
    {
      "cell_type": "markdown",
      "metadata": {
        "id": "UTFK1otsB3Rl"
      },
      "source": [
        "## 7.3 Vzory Magnitudy\n"
      ]
    },
    {
      "cell_type": "markdown",
      "metadata": {
        "id": "AnfgED3TB6Qu"
      },
      "source": [
        "\n",
        "\n",
        "*   Většina zemětřesení má nízkou až střední magnitudu (M< 5.0)\n",
        "*   Silná korelace mezi magnitudou a významností (r=0.939)\n",
        "*   Negativní korelace mezi magnitudou a zeměpisnou šířkou (r=−0.494)"
      ]
    },
    {
      "cell_type": "markdown",
      "metadata": {
        "id": "wuY1obw5CQJC"
      },
      "source": [
        "## 7.4 Výsledky Prediktivního Modelování\n"
      ]
    },
    {
      "cell_type": "markdown",
      "metadata": {
        "id": "ZVYOA6p1CV2_"
      },
      "source": [
        "*   Lineární regresní model dosáhl MSE 0.899\n",
        "*   Model funguje lépe pro předpovědi střední magnitudy\n",
        "*   Geografické vlastnosti (zeměpisná délka, šířka) jsou silnými prediktory"
      ]
    },
    {
      "cell_type": "code",
      "execution_count": null,
      "metadata": {
        "id": "YnJIyikt85I4"
      },
      "outputs": [],
      "source": []
    },
    {
      "cell_type": "code",
      "execution_count": null,
      "metadata": {
        "id": "W21V7lyg85MT"
      },
      "outputs": [],
      "source": []
    },
    {
      "cell_type": "code",
      "execution_count": null,
      "metadata": {
        "id": "TWT3VZPqSvkT"
      },
      "outputs": [],
      "source": []
    },
    {
      "cell_type": "code",
      "execution_count": null,
      "metadata": {
        "id": "FFP_YZzaOvX5"
      },
      "outputs": [],
      "source": []
    },
    {
      "cell_type": "markdown",
      "metadata": {
        "id": "qVlBCa6IquKL"
      },
      "source": [
        "# Analýza dat"
      ]
    },
    {
      "cell_type": "code",
      "execution_count": null,
      "metadata": {
        "id": "vnAgnzCBHPPE"
      },
      "outputs": [],
      "source": [
        "plt.pie(df['status'].value_counts(),labels=list(df['status'].unique()),autopct=\"%0.1f%%\")"
      ]
    },
    {
      "cell_type": "markdown",
      "metadata": {
        "id": "WxXyqjQ7o6f6"
      },
      "source": [
        "pie chart of current state of event(automatic or reviewed)**\n",
        "\n",
        "As we can see reviewed state is more than automatic state"
      ]
    },
    {
      "cell_type": "code",
      "execution_count": null,
      "metadata": {
        "id": "RKerlGU-HPRj"
      },
      "outputs": [],
      "source": [
        "df['data_type'].value_counts().sort_values(ascending=False)[:10].plot(kind='bar')\n",
        "plt.show()"
      ]
    },
    {
      "cell_type": "code",
      "execution_count": null,
      "metadata": {
        "id": "aVfUaE0uHPTp"
      },
      "outputs": [],
      "source": []
    },
    {
      "cell_type": "markdown",
      "metadata": {
        "id": "UtmLwVk5n2Ow"
      },
      "source": [
        "## Relation between magnitude and significance\n",
        "\n"
      ]
    },
    {
      "cell_type": "code",
      "execution_count": null,
      "metadata": {
        "id": "3xg7SQYRHPVz"
      },
      "outputs": [],
      "source": [
        "#The precalcualted average of magnitude is 83.02686789\n",
        "#The precalculated average of significance is 1.972216904\n",
        "#Here we have plot the values which are less than and eqaual to average values\n",
        "y= df['magnitudo'][:10]\n",
        "\n",
        "x = df['significance'][:10]\n",
        "\n",
        "plt.xlabel(\"significance\")\n",
        "plt.ylabel(\"magnitudo\")\n",
        "plt.plot(x,y)"
      ]
    },
    {
      "cell_type": "code",
      "execution_count": null,
      "metadata": {
        "id": "XgnChlGnHPgD"
      },
      "outputs": [],
      "source": [
        "sns.distplot(df['latitude'])\n",
        "plt.show()"
      ]
    },
    {
      "cell_type": "code",
      "execution_count": null,
      "metadata": {
        "id": "m7T4O4etHPia"
      },
      "outputs": [],
      "source": [
        "sns.distplot(df['longitude'])\n",
        "plt.show()"
      ]
    },
    {
      "cell_type": "code",
      "execution_count": null,
      "metadata": {
        "id": "81AeFeJJp12K"
      },
      "outputs": [],
      "source": [
        "state_counts = df['state'].value_counts()\n",
        "print(state_counts.head(20))"
      ]
    },
    {
      "cell_type": "code",
      "execution_count": null,
      "metadata": {
        "id": "3cA4aNt_p19D"
      },
      "outputs": [],
      "source": [
        "df"
      ]
    },
    {
      "cell_type": "code",
      "execution_count": null,
      "metadata": {
        "id": "LC_ncFUFFAED"
      },
      "outputs": [],
      "source": [
        "# Convert the 'date' column to datetime data type\n",
        "df['date'] = pd.to_datetime(df['date'])\n",
        "\n",
        "# Assuming 'time' column is string and needs to be converted to time objects\n",
        "# If 'time' is already a datetime.time object, this step is unnecessary\n",
        "df['time'] = pd.to_datetime(df['time'], format='%H:%M:%S', errors='coerce').dt.time"
      ]
    },
    {
      "cell_type": "code",
      "execution_count": null,
      "metadata": {
        "id": "-iRN-V5Mp1_b"
      },
      "outputs": [],
      "source": []
    },
    {
      "cell_type": "code",
      "execution_count": null,
      "metadata": {
        "id": "dg43LGxap2CC"
      },
      "outputs": [],
      "source": []
    },
    {
      "cell_type": "code",
      "execution_count": null,
      "metadata": {
        "id": "HgrNOpAxp2Eb"
      },
      "outputs": [],
      "source": []
    },
    {
      "cell_type": "code",
      "execution_count": null,
      "metadata": {
        "id": "BccT2qD3p2GZ"
      },
      "outputs": [],
      "source": []
    },
    {
      "cell_type": "code",
      "execution_count": null,
      "metadata": {
        "id": "8ptLCpxjHPkj"
      },
      "outputs": [],
      "source": []
    },
    {
      "cell_type": "code",
      "execution_count": null,
      "metadata": {
        "id": "gRlyPugbHPmZ"
      },
      "outputs": [],
      "source": []
    }
  ],
  "metadata": {
    "colab": {
      "provenance": [],
      "gpuType": "V28",
      "authorship_tag": "ABX9TyOUUXKSfAfhMp5HE0hnOnpK",
      "include_colab_link": true
    },
    "kernelspec": {
      "display_name": "Python 3",
      "name": "python3"
    },
    "language_info": {
      "name": "python"
    },
    "accelerator": "TPU"
  },
  "nbformat": 4,
  "nbformat_minor": 0
}